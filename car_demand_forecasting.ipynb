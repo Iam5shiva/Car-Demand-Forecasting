{
 "cells": [
  {
   "cell_type": "code",
   "execution_count": 1,
   "id": "0cc39722",
   "metadata": {},
   "outputs": [],
   "source": [
    "# importing libraries\n",
    "import pandas as pd \n",
    "import numpy as np\n",
    "import matplotlib.pyplot as plt\n",
    "import seaborn as sns"
   ]
  },
  {
   "cell_type": "code",
   "execution_count": 2,
   "id": "7aa82a61",
   "metadata": {},
   "outputs": [],
   "source": [
    "# reading data\n",
    "train = pd.read_csv('train_data.csv')"
   ]
  },
  {
   "cell_type": "code",
   "execution_count": 3,
   "id": "de71791c",
   "metadata": {},
   "outputs": [
    {
     "data": {
      "text/html": [
       "<div>\n",
       "<style scoped>\n",
       "    .dataframe tbody tr th:only-of-type {\n",
       "        vertical-align: middle;\n",
       "    }\n",
       "\n",
       "    .dataframe tbody tr th {\n",
       "        vertical-align: top;\n",
       "    }\n",
       "\n",
       "    .dataframe thead th {\n",
       "        text-align: right;\n",
       "    }\n",
       "</style>\n",
       "<table border=\"1\" class=\"dataframe\">\n",
       "  <thead>\n",
       "    <tr style=\"text-align: right;\">\n",
       "      <th></th>\n",
       "      <th>date</th>\n",
       "      <th>hour</th>\n",
       "      <th>demand</th>\n",
       "    </tr>\n",
       "  </thead>\n",
       "  <tbody>\n",
       "    <tr>\n",
       "      <th>0</th>\n",
       "      <td>2018-08-18</td>\n",
       "      <td>9</td>\n",
       "      <td>91</td>\n",
       "    </tr>\n",
       "    <tr>\n",
       "      <th>1</th>\n",
       "      <td>2018-08-18</td>\n",
       "      <td>10</td>\n",
       "      <td>21</td>\n",
       "    </tr>\n",
       "    <tr>\n",
       "      <th>2</th>\n",
       "      <td>2018-08-18</td>\n",
       "      <td>13</td>\n",
       "      <td>23</td>\n",
       "    </tr>\n",
       "    <tr>\n",
       "      <th>3</th>\n",
       "      <td>2018-08-18</td>\n",
       "      <td>14</td>\n",
       "      <td>104</td>\n",
       "    </tr>\n",
       "    <tr>\n",
       "      <th>4</th>\n",
       "      <td>2018-08-18</td>\n",
       "      <td>15</td>\n",
       "      <td>81</td>\n",
       "    </tr>\n",
       "  </tbody>\n",
       "</table>\n",
       "</div>"
      ],
      "text/plain": [
       "         date  hour  demand\n",
       "0  2018-08-18     9      91\n",
       "1  2018-08-18    10      21\n",
       "2  2018-08-18    13      23\n",
       "3  2018-08-18    14     104\n",
       "4  2018-08-18    15      81"
      ]
     },
     "execution_count": 3,
     "metadata": {},
     "output_type": "execute_result"
    }
   ],
   "source": [
    "train.head()"
   ]
  },
  {
   "cell_type": "code",
   "execution_count": 4,
   "id": "5ec9a6a1",
   "metadata": {},
   "outputs": [
    {
     "data": {
      "text/plain": [
       "(18247, 3)"
      ]
     },
     "execution_count": 4,
     "metadata": {},
     "output_type": "execute_result"
    }
   ],
   "source": [
    "train.shape"
   ]
  },
  {
   "cell_type": "code",
   "execution_count": 5,
   "id": "4a1b079b",
   "metadata": {},
   "outputs": [
    {
     "name": "stdout",
     "output_type": "stream",
     "text": [
      "<class 'pandas.core.frame.DataFrame'>\n",
      "RangeIndex: 18247 entries, 0 to 18246\n",
      "Data columns (total 3 columns):\n",
      " #   Column  Non-Null Count  Dtype \n",
      "---  ------  --------------  ----- \n",
      " 0   date    18247 non-null  object\n",
      " 1   hour    18247 non-null  int64 \n",
      " 2   demand  18247 non-null  int64 \n",
      "dtypes: int64(2), object(1)\n",
      "memory usage: 427.8+ KB\n"
     ]
    }
   ],
   "source": [
    "train.info()"
   ]
  },
  {
   "cell_type": "markdown",
   "id": "a694f716",
   "metadata": {},
   "source": [
    "**We have 3 variables-**\n",
    "* **Continuous variable -** demand\n",
    "* **Categorical variable -** hour\n",
    "* **Datetime variable -** date\n",
    "\n",
    "* **Target variable -** demand\n",
    "#### As we need to predict a continuous value, we can consider it as a regression problem"
   ]
  },
  {
   "cell_type": "code",
   "execution_count": 6,
   "id": "0e1b5358",
   "metadata": {
    "scrolled": true
   },
   "outputs": [],
   "source": [
    "# Converting datetime variables from 'object' to datetime\n",
    "import datetime\n",
    "train['date'] = pd.to_datetime(train['date'])"
   ]
  },
  {
   "cell_type": "code",
   "execution_count": 7,
   "id": "6d98a359",
   "metadata": {},
   "outputs": [
    {
     "name": "stdout",
     "output_type": "stream",
     "text": [
      "<class 'pandas.core.frame.DataFrame'>\n",
      "RangeIndex: 18247 entries, 0 to 18246\n",
      "Data columns (total 3 columns):\n",
      " #   Column  Non-Null Count  Dtype         \n",
      "---  ------  --------------  -----         \n",
      " 0   date    18247 non-null  datetime64[ns]\n",
      " 1   hour    18247 non-null  int64         \n",
      " 2   demand  18247 non-null  int64         \n",
      "dtypes: datetime64[ns](1), int64(2)\n",
      "memory usage: 427.8 KB\n"
     ]
    }
   ],
   "source": [
    "train.info()"
   ]
  },
  {
   "cell_type": "code",
   "execution_count": 8,
   "id": "da3cc906",
   "metadata": {},
   "outputs": [],
   "source": [
    "# extracting data from datetime variable\n",
    "def extract_data_from_date(df):\n",
    "    df['day_name'] = df['date'].apply(lambda x: x.day_name())\n",
    "    df['month'] = df['date'].apply(lambda x: x.month_name())\n",
    "    df['day_no'] = df['date'].dt.day\n",
    "    df['year'] = df['date'].dt.year\n",
    "    df['week_of_year'] = df['date'].dt.isocalendar().week"
   ]
  },
  {
   "cell_type": "code",
   "execution_count": 9,
   "id": "ce2559d9",
   "metadata": {
    "scrolled": true
   },
   "outputs": [],
   "source": [
    "extract_data_from_date(train)"
   ]
  },
  {
   "cell_type": "code",
   "execution_count": 10,
   "id": "770702fb",
   "metadata": {},
   "outputs": [],
   "source": [
    "def get_day_type(df):\n",
    "    weekend = ['Sunday','Saturday']\n",
    "    week_day = ['Monday','Tuesday','Wednesday','Thursday','Friday']\n",
    "    df['day_type'] = df['day_name'].apply(lambda x:'weekend' if x in weekend else 'week day')"
   ]
  },
  {
   "cell_type": "code",
   "execution_count": 11,
   "id": "53baab75",
   "metadata": {},
   "outputs": [],
   "source": [
    "get_day_type(train)"
   ]
  },
  {
   "cell_type": "code",
   "execution_count": 12,
   "id": "fbb00c40",
   "metadata": {},
   "outputs": [
    {
     "data": {
      "text/html": [
       "<div>\n",
       "<style scoped>\n",
       "    .dataframe tbody tr th:only-of-type {\n",
       "        vertical-align: middle;\n",
       "    }\n",
       "\n",
       "    .dataframe tbody tr th {\n",
       "        vertical-align: top;\n",
       "    }\n",
       "\n",
       "    .dataframe thead th {\n",
       "        text-align: right;\n",
       "    }\n",
       "</style>\n",
       "<table border=\"1\" class=\"dataframe\">\n",
       "  <thead>\n",
       "    <tr style=\"text-align: right;\">\n",
       "      <th></th>\n",
       "      <th>date</th>\n",
       "      <th>hour</th>\n",
       "      <th>demand</th>\n",
       "      <th>day_name</th>\n",
       "      <th>month</th>\n",
       "      <th>day_no</th>\n",
       "      <th>year</th>\n",
       "      <th>week_of_year</th>\n",
       "      <th>day_type</th>\n",
       "    </tr>\n",
       "  </thead>\n",
       "  <tbody>\n",
       "    <tr>\n",
       "      <th>16011</th>\n",
       "      <td>2020-10-20</td>\n",
       "      <td>10</td>\n",
       "      <td>55</td>\n",
       "      <td>Tuesday</td>\n",
       "      <td>October</td>\n",
       "      <td>20</td>\n",
       "      <td>2020</td>\n",
       "      <td>43</td>\n",
       "      <td>week day</td>\n",
       "    </tr>\n",
       "    <tr>\n",
       "      <th>5072</th>\n",
       "      <td>2019-05-04</td>\n",
       "      <td>11</td>\n",
       "      <td>127</td>\n",
       "      <td>Saturday</td>\n",
       "      <td>May</td>\n",
       "      <td>4</td>\n",
       "      <td>2019</td>\n",
       "      <td>18</td>\n",
       "      <td>weekend</td>\n",
       "    </tr>\n",
       "    <tr>\n",
       "      <th>4393</th>\n",
       "      <td>2019-03-31</td>\n",
       "      <td>17</td>\n",
       "      <td>63</td>\n",
       "      <td>Sunday</td>\n",
       "      <td>March</td>\n",
       "      <td>31</td>\n",
       "      <td>2019</td>\n",
       "      <td>13</td>\n",
       "      <td>weekend</td>\n",
       "    </tr>\n",
       "    <tr>\n",
       "      <th>15436</th>\n",
       "      <td>2020-09-23</td>\n",
       "      <td>14</td>\n",
       "      <td>33</td>\n",
       "      <td>Wednesday</td>\n",
       "      <td>September</td>\n",
       "      <td>23</td>\n",
       "      <td>2020</td>\n",
       "      <td>39</td>\n",
       "      <td>week day</td>\n",
       "    </tr>\n",
       "    <tr>\n",
       "      <th>12183</th>\n",
       "      <td>2020-04-21</td>\n",
       "      <td>8</td>\n",
       "      <td>98</td>\n",
       "      <td>Tuesday</td>\n",
       "      <td>April</td>\n",
       "      <td>21</td>\n",
       "      <td>2020</td>\n",
       "      <td>17</td>\n",
       "      <td>week day</td>\n",
       "    </tr>\n",
       "  </tbody>\n",
       "</table>\n",
       "</div>"
      ],
      "text/plain": [
       "            date  hour  demand   day_name      month  day_no  year  \\\n",
       "16011 2020-10-20    10      55    Tuesday    October      20  2020   \n",
       "5072  2019-05-04    11     127   Saturday        May       4  2019   \n",
       "4393  2019-03-31    17      63     Sunday      March      31  2019   \n",
       "15436 2020-09-23    14      33  Wednesday  September      23  2020   \n",
       "12183 2020-04-21     8      98    Tuesday      April      21  2020   \n",
       "\n",
       "       week_of_year  day_type  \n",
       "16011            43  week day  \n",
       "5072             18   weekend  \n",
       "4393             13   weekend  \n",
       "15436            39  week day  \n",
       "12183            17  week day  "
      ]
     },
     "execution_count": 12,
     "metadata": {},
     "output_type": "execute_result"
    }
   ],
   "source": [
    "train.sample(5)"
   ]
  },
  {
   "cell_type": "markdown",
   "id": "79a36653",
   "metadata": {},
   "source": [
    "# EDA"
   ]
  },
  {
   "cell_type": "markdown",
   "id": "688dcd40",
   "metadata": {},
   "source": [
    "#### variable - hour"
   ]
  },
  {
   "cell_type": "code",
   "execution_count": 13,
   "id": "a5788aa4",
   "metadata": {},
   "outputs": [
    {
     "data": {
      "text/plain": [
       "16    892\n",
       "15    890\n",
       "13    889\n",
       "17    889\n",
       "12    888\n",
       "14    886\n",
       "18    884\n",
       "10    884\n",
       "11    883\n",
       "9     878\n",
       "19    878\n",
       "8     870\n",
       "20    864\n",
       "21    858\n",
       "22    837\n",
       "7     806\n",
       "23    776\n",
       "0     726\n",
       "6     679\n",
       "1     587\n",
       "2     553\n",
       "5     338\n",
       "4     325\n",
       "3     287\n",
       "Name: hour, dtype: int64"
      ]
     },
     "execution_count": 13,
     "metadata": {},
     "output_type": "execute_result"
    }
   ],
   "source": [
    "train['hour'].value_counts()"
   ]
  },
  {
   "cell_type": "markdown",
   "id": "db0928f0",
   "metadata": {},
   "source": [
    "* **There are 24 categories which shows 24 hr time format**"
   ]
  },
  {
   "cell_type": "code",
   "execution_count": 14,
   "id": "b6531544",
   "metadata": {},
   "outputs": [
    {
     "data": {
      "image/png": "[encoded data removed]",
      "text/plain": [
       "<Figure size 864x360 with 1 Axes>"
      ]
     },
     "metadata": {
      "needs_background": "light"
     },
     "output_type": "display_data"
    }
   ],
   "source": [
    "plt.figure(figsize=(12,5))\n",
    "sns.countplot(data = train, x = train['hour'],order=train['hour'].value_counts().sort_values().index, palette = 'Set3')\n",
    "plt.show()"
   ]
  },
  {
   "cell_type": "markdown",
   "id": "98ccf248",
   "metadata": {},
   "source": [
    "* **There is less count at 3rd,4th and 5th hour that could be because these hours are generally considered as the sleep hours and people don't use car  services**\n",
    "* **There is high count between 8th and 21st hr (i.e. 8 AM to 9 PM) which could be because those are considred as working hours or the time when people generally prefer to travel**\n",
    "* **Note-** This is only count of number of records available for a value in our dataset"
   ]
  },
  {
   "cell_type": "markdown",
   "id": "2a6d068e",
   "metadata": {},
   "source": [
    "#### variable - day_name"
   ]
  },
  {
   "cell_type": "code",
   "execution_count": 15,
   "id": "ac6d1b7a",
   "metadata": {},
   "outputs": [
    {
     "data": {
      "text/plain": [
       "Friday       2671\n",
       "Saturday     2657\n",
       "Sunday       2649\n",
       "Monday       2589\n",
       "Wednesday    2565\n",
       "Tuesday      2564\n",
       "Thursday     2552\n",
       "Name: day_name, dtype: int64"
      ]
     },
     "execution_count": 15,
     "metadata": {},
     "output_type": "execute_result"
    }
   ],
   "source": [
    "train['day_name'].value_counts()"
   ]
  },
  {
   "cell_type": "code",
   "execution_count": 16,
   "id": "cdd6acfc",
   "metadata": {},
   "outputs": [
    {
     "data": {
      "image/png": "[encoded data removed]",
      "text/plain": [
       "<Figure size 864x360 with 1 Axes>"
      ]
     },
     "metadata": {
      "needs_background": "light"
     },
     "output_type": "display_data"
    }
   ],
   "source": [
    "plt.figure(figsize=(12,5))\n",
    "sns.countplot(data = train, x = train['day_name'],order=train['day_name'].value_counts().sort_values().index, palette = 'Set3')\n",
    "plt.show()"
   ]
  },
  {
   "cell_type": "markdown",
   "id": "db336436",
   "metadata": {},
   "source": [
    "* **According to our dataset, all days in a week have identical count**"
   ]
  },
  {
   "cell_type": "code",
   "execution_count": 17,
   "id": "af0e88b8",
   "metadata": {},
   "outputs": [
    {
     "data": {
      "image/png": "[encoded data removed]",
      "text/plain": [
       "<Figure size 720x720 with 2 Axes>"
      ]
     },
     "metadata": {
      "needs_background": "light"
     },
     "output_type": "display_data"
    }
   ],
   "source": [
    "fig, axes = plt.subplots(2, 1,figsize=(10,10))\n",
    "fig.suptitle('Univariate Analysis (month and day_no variable)')\n",
    "axes[0].set_title('month Analysis')\n",
    "axes[1].set_title(\"day_no Analysis\")\n",
    "sns.countplot(ax = axes[0],data = train, x = train['month'],order=train['month'].value_counts().sort_values().index, palette = 'Set3')\n",
    "sns.countplot(ax = axes[1],data = train, x = train['day_no'],order=train['day_no'].value_counts().sort_values().index, palette = 'Set3')\n",
    "plt.show()"
   ]
  },
  {
   "cell_type": "markdown",
   "id": "03cebdae",
   "metadata": {},
   "source": [
    "* **According to our dataset, January has the highest count and July has lowest count. It could be, because we have a lot more data for January as compared to July as the data for July was not recorded for some reason**\n",
    "* **Same with 31st day, possibly data was not recorded for this day**"
   ]
  },
  {
   "cell_type": "code",
   "execution_count": 18,
   "id": "0431d5b5",
   "metadata": {},
   "outputs": [
    {
     "data": {
      "text/html": [
       "<div>\n",
       "<style scoped>\n",
       "    .dataframe tbody tr th:only-of-type {\n",
       "        vertical-align: middle;\n",
       "    }\n",
       "\n",
       "    .dataframe tbody tr th {\n",
       "        vertical-align: top;\n",
       "    }\n",
       "\n",
       "    .dataframe thead th {\n",
       "        text-align: right;\n",
       "    }\n",
       "</style>\n",
       "<table border=\"1\" class=\"dataframe\">\n",
       "  <thead>\n",
       "    <tr style=\"text-align: right;\">\n",
       "      <th></th>\n",
       "      <th>date</th>\n",
       "      <th>hour</th>\n",
       "      <th>demand</th>\n",
       "      <th>day_name</th>\n",
       "      <th>month</th>\n",
       "      <th>day_no</th>\n",
       "      <th>year</th>\n",
       "      <th>week_of_year</th>\n",
       "      <th>day_type</th>\n",
       "    </tr>\n",
       "  </thead>\n",
       "  <tbody>\n",
       "    <tr>\n",
       "      <th>0</th>\n",
       "      <td>2018-08-18</td>\n",
       "      <td>9</td>\n",
       "      <td>91</td>\n",
       "      <td>Saturday</td>\n",
       "      <td>August</td>\n",
       "      <td>18</td>\n",
       "      <td>2018</td>\n",
       "      <td>33</td>\n",
       "      <td>weekend</td>\n",
       "    </tr>\n",
       "    <tr>\n",
       "      <th>1</th>\n",
       "      <td>2018-08-18</td>\n",
       "      <td>10</td>\n",
       "      <td>21</td>\n",
       "      <td>Saturday</td>\n",
       "      <td>August</td>\n",
       "      <td>18</td>\n",
       "      <td>2018</td>\n",
       "      <td>33</td>\n",
       "      <td>weekend</td>\n",
       "    </tr>\n",
       "    <tr>\n",
       "      <th>2</th>\n",
       "      <td>2018-08-18</td>\n",
       "      <td>13</td>\n",
       "      <td>23</td>\n",
       "      <td>Saturday</td>\n",
       "      <td>August</td>\n",
       "      <td>18</td>\n",
       "      <td>2018</td>\n",
       "      <td>33</td>\n",
       "      <td>weekend</td>\n",
       "    </tr>\n",
       "    <tr>\n",
       "      <th>3</th>\n",
       "      <td>2018-08-18</td>\n",
       "      <td>14</td>\n",
       "      <td>104</td>\n",
       "      <td>Saturday</td>\n",
       "      <td>August</td>\n",
       "      <td>18</td>\n",
       "      <td>2018</td>\n",
       "      <td>33</td>\n",
       "      <td>weekend</td>\n",
       "    </tr>\n",
       "    <tr>\n",
       "      <th>4</th>\n",
       "      <td>2018-08-18</td>\n",
       "      <td>15</td>\n",
       "      <td>81</td>\n",
       "      <td>Saturday</td>\n",
       "      <td>August</td>\n",
       "      <td>18</td>\n",
       "      <td>2018</td>\n",
       "      <td>33</td>\n",
       "      <td>weekend</td>\n",
       "    </tr>\n",
       "  </tbody>\n",
       "</table>\n",
       "</div>"
      ],
      "text/plain": [
       "        date  hour  demand  day_name   month  day_no  year  week_of_year  \\\n",
       "0 2018-08-18     9      91  Saturday  August      18  2018            33   \n",
       "1 2018-08-18    10      21  Saturday  August      18  2018            33   \n",
       "2 2018-08-18    13      23  Saturday  August      18  2018            33   \n",
       "3 2018-08-18    14     104  Saturday  August      18  2018            33   \n",
       "4 2018-08-18    15      81  Saturday  August      18  2018            33   \n",
       "\n",
       "  day_type  \n",
       "0  weekend  \n",
       "1  weekend  \n",
       "2  weekend  \n",
       "3  weekend  \n",
       "4  weekend  "
      ]
     },
     "execution_count": 18,
     "metadata": {},
     "output_type": "execute_result"
    }
   ],
   "source": [
    "train.head()"
   ]
  },
  {
   "cell_type": "code",
   "execution_count": 19,
   "id": "b9018949",
   "metadata": {},
   "outputs": [
    {
     "data": {
      "image/png": "[encoded data removed]",
      "text/plain": [
       "<Figure size 1080x720 with 2 Axes>"
      ]
     },
     "metadata": {
      "needs_background": "light"
     },
     "output_type": "display_data"
    }
   ],
   "source": [
    "fig,axes = plt.subplots(2,1,figsize=(15,10))\n",
    "axes[0].set_title('Demand: each hour on weekends and weekday')\n",
    "axes[1].set_title('Demand: each month year wise')\n",
    "sns.barplot(ax=axes[0],data=train, x='hour',y='demand',hue='day_type')\n",
    "sns.barplot(ax=axes[1],data=train, y='demand',x='month',hue='year')\n",
    "plt.show()"
   ]
  },
  {
   "cell_type": "code",
   "execution_count": 20,
   "id": "f330d1ee",
   "metadata": {},
   "outputs": [],
   "source": [
    "train.drop('date',axis=1, inplace=True)"
   ]
  },
  {
   "cell_type": "code",
   "execution_count": 21,
   "id": "134f9785",
   "metadata": {},
   "outputs": [],
   "source": [
    "X = train.drop('demand',axis=1)\n",
    "y = train.iloc[:,1]"
   ]
  },
  {
   "cell_type": "code",
   "execution_count": 22,
   "id": "36d7de2e",
   "metadata": {},
   "outputs": [
    {
     "data": {
      "text/html": [
       "<div>\n",
       "<style scoped>\n",
       "    .dataframe tbody tr th:only-of-type {\n",
       "        vertical-align: middle;\n",
       "    }\n",
       "\n",
       "    .dataframe tbody tr th {\n",
       "        vertical-align: top;\n",
       "    }\n",
       "\n",
       "    .dataframe thead th {\n",
       "        text-align: right;\n",
       "    }\n",
       "</style>\n",
       "<table border=\"1\" class=\"dataframe\">\n",
       "  <thead>\n",
       "    <tr style=\"text-align: right;\">\n",
       "      <th></th>\n",
       "      <th>hour</th>\n",
       "      <th>day_name</th>\n",
       "      <th>month</th>\n",
       "      <th>day_no</th>\n",
       "      <th>year</th>\n",
       "      <th>week_of_year</th>\n",
       "      <th>day_type</th>\n",
       "    </tr>\n",
       "  </thead>\n",
       "  <tbody>\n",
       "    <tr>\n",
       "      <th>0</th>\n",
       "      <td>9</td>\n",
       "      <td>Saturday</td>\n",
       "      <td>August</td>\n",
       "      <td>18</td>\n",
       "      <td>2018</td>\n",
       "      <td>33</td>\n",
       "      <td>weekend</td>\n",
       "    </tr>\n",
       "    <tr>\n",
       "      <th>1</th>\n",
       "      <td>10</td>\n",
       "      <td>Saturday</td>\n",
       "      <td>August</td>\n",
       "      <td>18</td>\n",
       "      <td>2018</td>\n",
       "      <td>33</td>\n",
       "      <td>weekend</td>\n",
       "    </tr>\n",
       "    <tr>\n",
       "      <th>2</th>\n",
       "      <td>13</td>\n",
       "      <td>Saturday</td>\n",
       "      <td>August</td>\n",
       "      <td>18</td>\n",
       "      <td>2018</td>\n",
       "      <td>33</td>\n",
       "      <td>weekend</td>\n",
       "    </tr>\n",
       "    <tr>\n",
       "      <th>3</th>\n",
       "      <td>14</td>\n",
       "      <td>Saturday</td>\n",
       "      <td>August</td>\n",
       "      <td>18</td>\n",
       "      <td>2018</td>\n",
       "      <td>33</td>\n",
       "      <td>weekend</td>\n",
       "    </tr>\n",
       "    <tr>\n",
       "      <th>4</th>\n",
       "      <td>15</td>\n",
       "      <td>Saturday</td>\n",
       "      <td>August</td>\n",
       "      <td>18</td>\n",
       "      <td>2018</td>\n",
       "      <td>33</td>\n",
       "      <td>weekend</td>\n",
       "    </tr>\n",
       "  </tbody>\n",
       "</table>\n",
       "</div>"
      ],
      "text/plain": [
       "   hour  day_name   month  day_no  year  week_of_year day_type\n",
       "0     9  Saturday  August      18  2018            33  weekend\n",
       "1    10  Saturday  August      18  2018            33  weekend\n",
       "2    13  Saturday  August      18  2018            33  weekend\n",
       "3    14  Saturday  August      18  2018            33  weekend\n",
       "4    15  Saturday  August      18  2018            33  weekend"
      ]
     },
     "execution_count": 22,
     "metadata": {},
     "output_type": "execute_result"
    }
   ],
   "source": [
    "X.head()"
   ]
  },
  {
   "cell_type": "code",
   "execution_count": 23,
   "id": "940293a6",
   "metadata": {},
   "outputs": [],
   "source": [
    "from sklearn.preprocessing import OneHotEncoder\n",
    "from sklearn.compose import ColumnTransformer\n",
    "trf = ColumnTransformer(transformers=[\n",
    "    ('ohe',OneHotEncoder(sparse=False,handle_unknown='ignore'),[0,1,2,3,4,5,6])\n",
    "],remainder='passthrough')"
   ]
  },
  {
   "cell_type": "code",
   "execution_count": 24,
   "id": "cd7e70a6",
   "metadata": {},
   "outputs": [
    {
     "data": {
      "text/plain": [
       "array([[0., 0., 0., ..., 0., 0., 1.],\n",
       "       [0., 0., 0., ..., 0., 0., 1.],\n",
       "       [0., 0., 0., ..., 0., 0., 1.],\n",
       "       ...,\n",
       "       [0., 0., 0., ..., 0., 0., 1.],\n",
       "       [0., 0., 0., ..., 0., 0., 1.],\n",
       "       [0., 0., 0., ..., 0., 0., 1.]])"
      ]
     },
     "execution_count": 24,
     "metadata": {},
     "output_type": "execute_result"
    }
   ],
   "source": [
    "trf.fit_transform(X)"
   ]
  },
  {
   "cell_type": "code",
   "execution_count": 25,
   "id": "6dccdc61",
   "metadata": {},
   "outputs": [],
   "source": [
    "from sklearn.model_selection import train_test_split\n",
    "X_train, X_test, y_train, y_test = train_test_split(X, y, test_size=0.1, random_state=0)"
   ]
  },
  {
   "cell_type": "code",
   "execution_count": 26,
   "id": "cc8b79c2",
   "metadata": {},
   "outputs": [],
   "source": [
    "X_train = trf.fit_transform(X_train)"
   ]
  },
  {
   "cell_type": "code",
   "execution_count": 27,
   "id": "2cdf007c",
   "metadata": {},
   "outputs": [],
   "source": [
    "X_test = trf.transform(X_test)"
   ]
  },
  {
   "cell_type": "code",
   "execution_count": 28,
   "id": "918b5579",
   "metadata": {},
   "outputs": [],
   "source": [
    "from sklearn.preprocessing import StandardScaler\n",
    "scaler = StandardScaler()\n",
    "X_train = scaler.fit_transform(X_train)\n",
    "X_test = scaler.transform(X_test)"
   ]
  },
  {
   "cell_type": "code",
   "execution_count": 29,
   "id": "cf019e6f",
   "metadata": {},
   "outputs": [
    {
     "data": {
      "text/plain": [
       "(16422, 133)"
      ]
     },
     "execution_count": 29,
     "metadata": {},
     "output_type": "execute_result"
    }
   ],
   "source": [
    "X_train.shape"
   ]
  },
  {
   "cell_type": "code",
   "execution_count": 30,
   "id": "c9bfedae",
   "metadata": {},
   "outputs": [
    {
     "data": {
      "text/plain": [
       "(1825,)"
      ]
     },
     "execution_count": 30,
     "metadata": {},
     "output_type": "execute_result"
    }
   ],
   "source": [
    "y_test.shape"
   ]
  },
  {
   "cell_type": "code",
   "execution_count": 31,
   "id": "51f44693",
   "metadata": {},
   "outputs": [],
   "source": [
    "from sklearn.linear_model import LinearRegression\n",
    "reg = LinearRegression()"
   ]
  },
  {
   "cell_type": "code",
   "execution_count": 32,
   "id": "37fee04b",
   "metadata": {},
   "outputs": [
    {
     "data": {
      "text/plain": [
       "LinearRegression()"
      ]
     },
     "execution_count": 32,
     "metadata": {},
     "output_type": "execute_result"
    }
   ],
   "source": [
    "reg.fit(X_train,y_train)"
   ]
  },
  {
   "cell_type": "code",
   "execution_count": 33,
   "id": "9025be39",
   "metadata": {},
   "outputs": [],
   "source": [
    "y_pred = reg.predict(X_test)"
   ]
  },
  {
   "cell_type": "code",
   "execution_count": 34,
   "id": "6802b0a3",
   "metadata": {},
   "outputs": [
    {
     "data": {
      "text/plain": [
       "array([ 62,  39,   2, ...,  67, 104,  20], dtype=int64)"
      ]
     },
     "execution_count": 34,
     "metadata": {},
     "output_type": "execute_result"
    }
   ],
   "source": [
    "y_test.values"
   ]
  },
  {
   "cell_type": "code",
   "execution_count": 35,
   "id": "71bb03e1",
   "metadata": {},
   "outputs": [
    {
     "name": "stdout",
     "output_type": "stream",
     "text": [
      "MAE 29.85606846130997\n",
      "MSE 1351.379792366582\n",
      "RMSE 36.76111794228492\n",
      "R2 score 0.25877394189340963\n"
     ]
    }
   ],
   "source": [
    "from sklearn.metrics import mean_absolute_error,mean_squared_error,r2_score\n",
    "print(\"MAE\",mean_absolute_error(y_test,y_pred))\n",
    "print(\"MSE\",mean_squared_error(y_test,y_pred))\n",
    "print(\"RMSE\",np.sqrt(mean_squared_error(y_test,y_pred)))\n",
    "print(\"R2 score\",r2_score(y_test,y_pred))"
   ]
  },
  {
   "cell_type": "code",
   "execution_count": 36,
   "id": "d1dfdcb7",
   "metadata": {},
   "outputs": [
    {
     "data": {
      "text/plain": [
       "array([76.45635609, 33.33135609, 56.45635609, ..., 98.26885609,\n",
       "       69.51885609, 82.30010609])"
      ]
     },
     "execution_count": 36,
     "metadata": {},
     "output_type": "execute_result"
    }
   ],
   "source": [
    "y_pred"
   ]
  },
  {
   "cell_type": "code",
   "execution_count": 58,
   "id": "c2a1eec3",
   "metadata": {},
   "outputs": [],
   "source": [
    "from sklearn.ensemble import RandomForestRegressor\n",
    "rf = RandomForestRegressor(max_depth=19)"
   ]
  },
  {
   "cell_type": "code",
   "execution_count": 59,
   "id": "4bbbbd76",
   "metadata": {},
   "outputs": [
    {
     "data": {
      "text/plain": [
       "RandomForestRegressor(max_depth=19)"
      ]
     },
     "execution_count": 59,
     "metadata": {},
     "output_type": "execute_result"
    }
   ],
   "source": [
    "rf.fit(X_train,y_train)"
   ]
  },
  {
   "cell_type": "code",
   "execution_count": 60,
   "id": "3a6ab7bc",
   "metadata": {},
   "outputs": [],
   "source": [
    "y_pred_rf = rf.predict(X_test)"
   ]
  },
  {
   "cell_type": "code",
   "execution_count": 61,
   "id": "b302c506",
   "metadata": {},
   "outputs": [
    {
     "name": "stdout",
     "output_type": "stream",
     "text": [
      "MAE 28.332454968294176\n",
      "MSE 1168.4101803076574\n",
      "RMSE 34.18201545122314\n",
      "R2 score 0.3591319945043808\n"
     ]
    }
   ],
   "source": [
    "from sklearn.metrics import mean_absolute_error,mean_squared_error,r2_score\n",
    "print(\"MAE\",mean_absolute_error(y_test,y_pred_rf))\n",
    "print(\"MSE\",mean_squared_error(y_test,y_pred_rf))\n",
    "print(\"RMSE\",np.sqrt(mean_squared_error(y_test,y_pred_rf)))\n",
    "print(\"R2 score\",r2_score(y_test,y_pred_rf))"
   ]
  },
  {
   "cell_type": "code",
   "execution_count": 55,
   "id": "e1a14884",
   "metadata": {},
   "outputs": [],
   "source": [
    "test = pd.read_csv('test_data.csv')"
   ]
  },
  {
   "cell_type": "code",
   "execution_count": 56,
   "id": "d0c25ba1",
   "metadata": {},
   "outputs": [
    {
     "data": {
      "text/html": [
       "<div>\n",
       "<style scoped>\n",
       "    .dataframe tbody tr th:only-of-type {\n",
       "        vertical-align: middle;\n",
       "    }\n",
       "\n",
       "    .dataframe tbody tr th {\n",
       "        vertical-align: top;\n",
       "    }\n",
       "\n",
       "    .dataframe thead th {\n",
       "        text-align: right;\n",
       "    }\n",
       "</style>\n",
       "<table border=\"1\" class=\"dataframe\">\n",
       "  <thead>\n",
       "    <tr style=\"text-align: right;\">\n",
       "      <th></th>\n",
       "      <th>date</th>\n",
       "      <th>hour</th>\n",
       "    </tr>\n",
       "  </thead>\n",
       "  <tbody>\n",
       "    <tr>\n",
       "      <th>0</th>\n",
       "      <td>2021-03-01</td>\n",
       "      <td>0</td>\n",
       "    </tr>\n",
       "    <tr>\n",
       "      <th>1</th>\n",
       "      <td>2021-03-01</td>\n",
       "      <td>1</td>\n",
       "    </tr>\n",
       "    <tr>\n",
       "      <th>2</th>\n",
       "      <td>2021-03-01</td>\n",
       "      <td>2</td>\n",
       "    </tr>\n",
       "    <tr>\n",
       "      <th>3</th>\n",
       "      <td>2021-03-01</td>\n",
       "      <td>3</td>\n",
       "    </tr>\n",
       "    <tr>\n",
       "      <th>4</th>\n",
       "      <td>2021-03-01</td>\n",
       "      <td>5</td>\n",
       "    </tr>\n",
       "  </tbody>\n",
       "</table>\n",
       "</div>"
      ],
      "text/plain": [
       "         date  hour\n",
       "0  2021-03-01     0\n",
       "1  2021-03-01     1\n",
       "2  2021-03-01     2\n",
       "3  2021-03-01     3\n",
       "4  2021-03-01     5"
      ]
     },
     "execution_count": 56,
     "metadata": {},
     "output_type": "execute_result"
    }
   ],
   "source": [
    "test.head()"
   ]
  },
  {
   "cell_type": "code",
   "execution_count": 57,
   "id": "cbfc61ce",
   "metadata": {},
   "outputs": [],
   "source": [
    "test['date'] = pd.to_datetime(test['date'])"
   ]
  },
  {
   "cell_type": "code",
   "execution_count": 62,
   "id": "9ee94f29",
   "metadata": {},
   "outputs": [],
   "source": [
    "extract_data_from_date(test)\n",
    "get_day_type(test)\n",
    "test.drop('date',axis=1, inplace=True)"
   ]
  },
  {
   "cell_type": "code",
   "execution_count": 63,
   "id": "d941f42b",
   "metadata": {},
   "outputs": [
    {
     "data": {
      "text/html": [
       "<div>\n",
       "<style scoped>\n",
       "    .dataframe tbody tr th:only-of-type {\n",
       "        vertical-align: middle;\n",
       "    }\n",
       "\n",
       "    .dataframe tbody tr th {\n",
       "        vertical-align: top;\n",
       "    }\n",
       "\n",
       "    .dataframe thead th {\n",
       "        text-align: right;\n",
       "    }\n",
       "</style>\n",
       "<table border=\"1\" class=\"dataframe\">\n",
       "  <thead>\n",
       "    <tr style=\"text-align: right;\">\n",
       "      <th></th>\n",
       "      <th>hour</th>\n",
       "      <th>day_name</th>\n",
       "      <th>month</th>\n",
       "      <th>day_no</th>\n",
       "      <th>year</th>\n",
       "      <th>week_of_year</th>\n",
       "      <th>day_type</th>\n",
       "    </tr>\n",
       "  </thead>\n",
       "  <tbody>\n",
       "    <tr>\n",
       "      <th>0</th>\n",
       "      <td>0</td>\n",
       "      <td>Monday</td>\n",
       "      <td>March</td>\n",
       "      <td>1</td>\n",
       "      <td>2021</td>\n",
       "      <td>9</td>\n",
       "      <td>week day</td>\n",
       "    </tr>\n",
       "    <tr>\n",
       "      <th>1</th>\n",
       "      <td>1</td>\n",
       "      <td>Monday</td>\n",
       "      <td>March</td>\n",
       "      <td>1</td>\n",
       "      <td>2021</td>\n",
       "      <td>9</td>\n",
       "      <td>week day</td>\n",
       "    </tr>\n",
       "    <tr>\n",
       "      <th>2</th>\n",
       "      <td>2</td>\n",
       "      <td>Monday</td>\n",
       "      <td>March</td>\n",
       "      <td>1</td>\n",
       "      <td>2021</td>\n",
       "      <td>9</td>\n",
       "      <td>week day</td>\n",
       "    </tr>\n",
       "    <tr>\n",
       "      <th>3</th>\n",
       "      <td>3</td>\n",
       "      <td>Monday</td>\n",
       "      <td>March</td>\n",
       "      <td>1</td>\n",
       "      <td>2021</td>\n",
       "      <td>9</td>\n",
       "      <td>week day</td>\n",
       "    </tr>\n",
       "    <tr>\n",
       "      <th>4</th>\n",
       "      <td>5</td>\n",
       "      <td>Monday</td>\n",
       "      <td>March</td>\n",
       "      <td>1</td>\n",
       "      <td>2021</td>\n",
       "      <td>9</td>\n",
       "      <td>week day</td>\n",
       "    </tr>\n",
       "  </tbody>\n",
       "</table>\n",
       "</div>"
      ],
      "text/plain": [
       "   hour day_name  month  day_no  year  week_of_year  day_type\n",
       "0     0   Monday  March       1  2021             9  week day\n",
       "1     1   Monday  March       1  2021             9  week day\n",
       "2     2   Monday  March       1  2021             9  week day\n",
       "3     3   Monday  March       1  2021             9  week day\n",
       "4     5   Monday  March       1  2021             9  week day"
      ]
     },
     "execution_count": 63,
     "metadata": {},
     "output_type": "execute_result"
    }
   ],
   "source": [
    "test.head()"
   ]
  },
  {
   "cell_type": "code",
   "execution_count": 64,
   "id": "e0e12c48",
   "metadata": {},
   "outputs": [],
   "source": [
    "test = trf.transform(test)"
   ]
  },
  {
   "cell_type": "code",
   "execution_count": 65,
   "id": "5864e1c4",
   "metadata": {},
   "outputs": [],
   "source": [
    "test = scaler.transform(test)"
   ]
  },
  {
   "cell_type": "code",
   "execution_count": 66,
   "id": "d80f9135",
   "metadata": {},
   "outputs": [
    {
     "data": {
      "text/plain": [
       "(7650, 133)"
      ]
     },
     "execution_count": 66,
     "metadata": {},
     "output_type": "execute_result"
    }
   ],
   "source": [
    "test.shape"
   ]
  },
  {
   "cell_type": "code",
   "execution_count": 67,
   "id": "af343848",
   "metadata": {},
   "outputs": [
    {
     "data": {
      "text/plain": [
       "array([53.56887838, 53.10563382, 52.60945241, ..., 60.25206972,\n",
       "       61.68796872, 60.2324657 ])"
      ]
     },
     "execution_count": 67,
     "metadata": {},
     "output_type": "execute_result"
    }
   ],
   "source": [
    "rf.predict(test)"
   ]
  },
  {
   "cell_type": "code",
   "execution_count": 68,
   "id": "fcb80d3b",
   "metadata": {},
   "outputs": [],
   "source": [
    "test_pred = rf.predict(test)"
   ]
  },
  {
   "cell_type": "code",
   "execution_count": 69,
   "id": "684319b7",
   "metadata": {},
   "outputs": [],
   "source": [
    "df = pd.read_csv('test_data.csv')"
   ]
  },
  {
   "cell_type": "code",
   "execution_count": 70,
   "id": "05ecc38e",
   "metadata": {},
   "outputs": [],
   "source": [
    "df['demand'] = test_pred.tolist()"
   ]
  },
  {
   "cell_type": "code",
   "execution_count": 71,
   "id": "495768c4",
   "metadata": {},
   "outputs": [],
   "source": [
    "df['demand'] = df['demand'].astype(int)"
   ]
  },
  {
   "cell_type": "code",
   "execution_count": 72,
   "id": "bd93bf0d",
   "metadata": {},
   "outputs": [
    {
     "data": {
      "text/html": [
       "<div>\n",
       "<style scoped>\n",
       "    .dataframe tbody tr th:only-of-type {\n",
       "        vertical-align: middle;\n",
       "    }\n",
       "\n",
       "    .dataframe tbody tr th {\n",
       "        vertical-align: top;\n",
       "    }\n",
       "\n",
       "    .dataframe thead th {\n",
       "        text-align: right;\n",
       "    }\n",
       "</style>\n",
       "<table border=\"1\" class=\"dataframe\">\n",
       "  <thead>\n",
       "    <tr style=\"text-align: right;\">\n",
       "      <th></th>\n",
       "      <th>date</th>\n",
       "      <th>hour</th>\n",
       "      <th>demand</th>\n",
       "    </tr>\n",
       "  </thead>\n",
       "  <tbody>\n",
       "    <tr>\n",
       "      <th>0</th>\n",
       "      <td>2021-03-01</td>\n",
       "      <td>0</td>\n",
       "      <td>53</td>\n",
       "    </tr>\n",
       "    <tr>\n",
       "      <th>1</th>\n",
       "      <td>2021-03-01</td>\n",
       "      <td>1</td>\n",
       "      <td>53</td>\n",
       "    </tr>\n",
       "    <tr>\n",
       "      <th>2</th>\n",
       "      <td>2021-03-01</td>\n",
       "      <td>2</td>\n",
       "      <td>52</td>\n",
       "    </tr>\n",
       "    <tr>\n",
       "      <th>3</th>\n",
       "      <td>2021-03-01</td>\n",
       "      <td>3</td>\n",
       "      <td>64</td>\n",
       "    </tr>\n",
       "    <tr>\n",
       "      <th>4</th>\n",
       "      <td>2021-03-01</td>\n",
       "      <td>5</td>\n",
       "      <td>49</td>\n",
       "    </tr>\n",
       "  </tbody>\n",
       "</table>\n",
       "</div>"
      ],
      "text/plain": [
       "         date  hour  demand\n",
       "0  2021-03-01     0      53\n",
       "1  2021-03-01     1      53\n",
       "2  2021-03-01     2      52\n",
       "3  2021-03-01     3      64\n",
       "4  2021-03-01     5      49"
      ]
     },
     "execution_count": 72,
     "metadata": {},
     "output_type": "execute_result"
    }
   ],
   "source": [
    "df.head()"
   ]
  },
  {
   "cell_type": "code",
   "execution_count": 73,
   "id": "67e81e42",
   "metadata": {},
   "outputs": [],
   "source": [
    "df.to_csv('submission3.csv',index=False)"
   ]
  },
  {
   "cell_type": "code",
   "execution_count": null,
   "id": "bcaca6b4",
   "metadata": {},
   "outputs": [],
   "source": []
  }
 ],
 "metadata": {
  "kernelspec": {
   "display_name": "Python 3 (ipykernel)",
   "language": "python",
   "name": "python3"
  },
  "language_info": {
   "codemirror_mode": {
    "name": "ipython",
    "version": 3
   },
   "file_extension": ".py",
   "mimetype": "text/x-python",
   "name": "python",
   "nbconvert_exporter": "python",
   "pygments_lexer": "ipython3",
   "version": "3.9.7"
  }
 },
 "nbformat": 4,
 "nbformat_minor": 5
}
